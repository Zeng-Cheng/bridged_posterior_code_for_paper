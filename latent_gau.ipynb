{
 "cells": [
  {
   "cell_type": "code",
   "execution_count": 1,
   "id": "9eed043d",
   "metadata": {
    "tags": []
   },
   "outputs": [],
   "source": [
    "from tqdm.notebook import trange\n",
    "import torch\n",
    "from torch.distributions.multivariate_normal import MultivariateNormal as MVN\n",
    "import numpy as np\n",
    "import jax.numpy as jnp\n",
    "from jax import jit, device_put\n",
    "import scipy\n",
    "from src.latent_gau_model import latent_gau_optim_step, latent_gau_log_prob\n",
    "from src.latent_gau_model import latent_gau_log_prob_profile\n",
    "from polyagamma import random_polyagamma\n",
    "from src.utils import acc_rate"
   ]
  },
  {
   "cell_type": "code",
   "execution_count": 2,
   "id": "f97b8a18-6564-42fa-ac83-7d89729fc6d9",
   "metadata": {},
   "outputs": [],
   "source": [
    "# simulation for bridged posterior\n",
    "\n",
    "# setup seed\n",
    "seed = 2507\n",
    "np.random.seed(seed)\n",
    "\n",
    "# simulating data\n",
    "n = 1000 # sample size\n",
    "X = (np.random.rand(n, 1) - 0.5) * 12\n",
    "dist_x = scipy.spatial.distance.cdist(X, X) ** 2\n",
    "w_true = jnp.cos(X)\n",
    "w_true = w_true.T[0]\n",
    "prob_sigmoid = 1 - 1 / (1 + jnp.exp(w_true))\n",
    "y = jnp.where((np.random.rand(n) - prob_sigmoid) < 0, 1, 0) * 1.0"
   ]
  },
  {
   "cell_type": "code",
   "execution_count": 3,
   "id": "da13dc18",
   "metadata": {},
   "outputs": [],
   "source": [
    "optim_jit = jit(latent_gau_optim_step)"
   ]
  },
  {
   "cell_type": "code",
   "execution_count": null,
   "id": "35af53f1",
   "metadata": {},
   "outputs": [],
   "source": [
    "alpha_prior = 2\n",
    "beta = 5\n",
    "\n",
    "# sampling parameters\n",
    "num_samples = 10000\n",
    "burn_in = 2000\n",
    "\n",
    "lam_tau = 1\n",
    "lam_b = 0.5\n",
    "\n",
    "tau_trace, b_trace = [], []\n",
    "accept_tau, accept_b = np.zeros(num_samples), np.zeros(num_samples)\n",
    "\n",
    "# initial values\n",
    "tau = jnp.array([2])\n",
    "b = jnp.array([1.5])\n",
    "\n",
    "zeta, alpha = optim_jit(dist_x, y, tau, b)\n",
    "logprob = latent_gau_log_prob_profile(\n",
    "    zeta, alpha, dist_x, y, tau, b, alpha_prior, beta)\n",
    "\n",
    "for ns in trange(num_samples):\n",
    "    \n",
    "    # Metroplis--Hastings\n",
    "\n",
    "    tau_prop = device_put(tau + np.random.randn(1) * lam_tau)\n",
    "    if (tau_prop > 0):\n",
    "        zeta_prop, alpha_prop = optim_jit(dist_x, y, tau_prop, b)\n",
    "        logprob_prop = latent_gau_log_prob_profile(\n",
    "            zeta_prop, alpha_prop, dist_x, y, tau_prop, b, alpha_prior, beta)\n",
    "        \n",
    "\n",
    "        if (jnp.log(np.random.rand(1)) < (logprob_prop - logprob)):\n",
    "            tau = tau_prop\n",
    "            zeta = zeta_prop\n",
    "            alpha = alpha_prop\n",
    "            logprob = logprob_prop\n",
    "            accept_tau[ns] = 1\n",
    "            \n",
    "    # Metroplis--Hastings\n",
    "            \n",
    "    b_prop = device_put(b + np.random.randn(1) * lam_b)\n",
    "    if b_prop > 0:\n",
    "        zeta_prop, alpha_prop = optim_jit(dist_x, y, tau, b_prop)\n",
    "        logprob_prop = latent_gau_log_prob_profile(\n",
    "            zeta_prop, alpha_prop, dist_x, y, tau, b_prop, alpha_prior, beta)\n",
    "        \n",
    "        if (jnp.log(np.random.rand(1)) < (logprob_prop - logprob)):\n",
    "            b = b_prop\n",
    "            zeta = zeta_prop\n",
    "            alpha = alpha_prop\n",
    "            logprob = logprob_prop\n",
    "            accept_b[ns] = 1\n",
    "\n",
    "    # adjust the step size of random walk\n",
    "            \n",
    "    if (ns % 200 == 0) and (ns < burn_in):\n",
    "        if acc_rate(accept_tau, ns + 1) > 0.4:\n",
    "            lam_tau *= 1.8\n",
    "        if acc_rate(accept_tau, ns + 1) < 0.25:\n",
    "            lam_tau /= 3\n",
    "        if acc_rate(accept_b, ns + 1) > 0.4:\n",
    "            lam_b *= 1.8\n",
    "        if acc_rate(accept_b, ns + 1) < 0.25:\n",
    "            lam_b /= 3\n",
    "        \n",
    "    tau_trace.append(tau)\n",
    "    b_trace.append(b)\n",
    "    if ns % 400 == 0:\n",
    "        print('step: {:d}, accept_rate of tau: {:.3f}, of b: {:.3f}'.format(\n",
    "            ns, acc_rate(accept_tau, ns + 1), acc_rate(accept_b, ns + 1)))\n",
    "\n",
    "tau_trace, b_trace = np.stack(tau_trace), np.stack(b_trace)"
   ]
  },
  {
   "cell_type": "code",
   "execution_count": null,
   "id": "1a5729f7-ee0d-4a8b-b533-d0024451ce9b",
   "metadata": {},
   "outputs": [],
   "source": [
    "np.savetxt(\"res_latent_gau/tau_trace.txt\", tau_trace)\n",
    "np.savetxt(\"res_latent_gau/b_trace.txt\", b_trace)"
   ]
  },
  {
   "cell_type": "code",
   "execution_count": 6,
   "id": "5cc664e6",
   "metadata": {
    "tags": []
   },
   "outputs": [],
   "source": [
    "# simulation for canonical model\n",
    "\n",
    "# setup seed\n",
    "seed = 2507\n",
    "torch.manual_seed(seed)\n",
    "np.random.seed(seed)\n",
    "\n",
    "# simulating data\n",
    "n = 1000\n",
    "X = (np.random.rand(n, 1) - 0.5) * 12\n",
    "dist_x = scipy.spatial.distance.cdist(X, X) ** 2\n",
    "w_true = np.cos(X)\n",
    "w_true = w_true.T[0]\n",
    "prob_sigmoid = 1 - 1 / (1 + np.exp(w_true))\n",
    "y = np.where((np.random.rand(n) - prob_sigmoid) < 0, 1, 0) * 1.0\n",
    "y = torch.tensor(y).float()\n",
    "X = torch.tensor(X).float()"
   ]
  },
  {
   "cell_type": "code",
   "execution_count": null,
   "id": "5acee20e-755a-4ad4-a838-3c6117ebd34f",
   "metadata": {},
   "outputs": [],
   "source": [
    "alpha_prior = 2\n",
    "beta = 5\n",
    "\n",
    "# simulating parameters\n",
    "num_samples = 10000\n",
    "burn_in = 2000\n",
    "lam_tau = 0.5\n",
    "lam_b = 0.5\n",
    "\n",
    "tau_aug_trace, b_aug_trace = [], []\n",
    "accept_tau, accept_b = np.zeros(num_samples), np.zeros(num_samples)\n",
    "\n",
    "# initial values\n",
    "tau = torch.tensor([1.5])\n",
    "b = torch.tensor([1.5])\n",
    "eta = torch.tensor(random_polyagamma(1, size=n))\n",
    "\n",
    "for ns in trange(num_samples):\n",
    "    \n",
    "    # Gibbs step via data augmentation\n",
    "\n",
    "    q_matrix = (torch.exp(-dist_x / b / 2)).float() + 0.01 * torch.eye(n)\n",
    "    Omega = torch.diag(eta)\n",
    "    w_var = torch.inverse(torch.inverse(q_matrix) / tau + Omega).float()\n",
    "    w_var = (w_var + w_var.T) / 2\n",
    "    w_mean = w_var @ (y - 0.5)\n",
    "    w = MVN(w_mean, w_var).sample()\n",
    "    eta = torch.tensor(random_polyagamma(1, w))\n",
    "    logprob = latent_gau_log_prob(w, dist_x, y, tau, b, alpha_prior, beta)\n",
    "    \n",
    "    # Metroplis--Hastings\n",
    "\n",
    "    tau_prop = tau + torch.randn(1) * lam_tau\n",
    "    if (tau_prop > 0): \n",
    "        logprob_prop = latent_gau_log_prob(w, dist_x, y, tau_prop, b, alpha_prior, beta)\n",
    "        if (torch.log(torch.rand(1)) < (logprob_prop - logprob)):\n",
    "            tau = tau_prop\n",
    "            logprob = logprob_prop\n",
    "            accept_tau[ns] = 1\n",
    "        \n",
    "    b_prop = b + torch.randn(1) * lam_b\n",
    "    if b_prop > 0:\n",
    "        logprob_prop = latent_gau_log_prob(w, dist_x, y, tau, b_prop, alpha_prior, beta)\n",
    "        if (torch.log(torch.rand(1)) < (logprob_prop - logprob)):\n",
    "            b = b_prop\n",
    "            logprob = logprob_prop\n",
    "            accept_b[ns] = 1\n",
    "            \n",
    "    # adjust the step size of random walk\n",
    "            \n",
    "    if (ns % 200 == 0) and (ns < burn_in):\n",
    "        if acc_rate(accept_tau, ns + 1) > 0.4:\n",
    "            lam_tau *= 2\n",
    "        if acc_rate(accept_tau, ns + 1) < 0.3:\n",
    "            lam_tau /= 3\n",
    "        if acc_rate(accept_b, ns + 1) > 0.4:\n",
    "            lam_b *= 2\n",
    "        if acc_rate(accept_b, ns + 1) < 0.3:\n",
    "            lam_b /= 3\n",
    "    tau_aug_trace.append(tau)\n",
    "    b_aug_trace.append(b)\n",
    "    if ns % 1000 == 0:\n",
    "        print('step:, {:d}, accept_rate of tau: {:.3f}, of b: {:.3f}'.format(\n",
    "            ns, acc_rate(accept_tau, ns + 1), acc_rate(accept_b, ns + 1)))\n",
    "\n",
    "tau_aug_trace, b_aug_trace = np.stack(tau_aug_trace), np.stack(b_aug_trace)"
   ]
  },
  {
   "cell_type": "code",
   "execution_count": 12,
   "id": "6241bedc",
   "metadata": {},
   "outputs": [],
   "source": [
    "np.savetxt(\"res_latent_gau/tau_aug_trace.txt\", tau_aug_trace)\n",
    "np.savetxt(\"res_latent_gau/b_aug_trace.txt\", b_aug_trace)"
   ]
  }
 ],
 "metadata": {
  "kernelspec": {
   "display_name": "Python 3 (ipykernel)",
   "language": "python",
   "name": "python3"
  },
  "language_info": {
   "codemirror_mode": {
    "name": "ipython",
    "version": 3
   },
   "file_extension": ".py",
   "mimetype": "text/x-python",
   "name": "python",
   "nbconvert_exporter": "python",
   "pygments_lexer": "ipython3",
   "version": "3.11.5"
  },
  "toc-autonumbering": false,
  "widgets": {
   "application/vnd.jupyter.widget-state+json": {
    "state": {
     "130edae19b78400b81ba84595c6afff7": {
      "model_module": "@jupyter-widgets/base",
      "model_module_version": "2.0.0",
      "model_name": "LayoutModel",
      "state": {}
     },
     "19996f74d37a44c194c3a9371a43851e": {
      "model_module": "@jupyter-widgets/base",
      "model_module_version": "2.0.0",
      "model_name": "LayoutModel",
      "state": {}
     },
     "28c90838f32b47b286b5241186649aa8": {
      "model_module": "@jupyter-widgets/base",
      "model_module_version": "2.0.0",
      "model_name": "LayoutModel",
      "state": {}
     },
     "2e9565503d6f4ee8bec2b84a5ed96fc0": {
      "model_module": "@jupyter-widgets/controls",
      "model_module_version": "2.0.0",
      "model_name": "FloatProgressModel",
      "state": {
       "bar_style": "danger",
       "layout": "IPY_MODEL_dc33222cf0b3461bb443fd9606989122",
       "max": 10000,
       "style": "IPY_MODEL_38a7877309b248ba9ee65bd762013855",
       "value": 51
      }
     },
     "364ccd4ca5044d3fa192110ba8eba40e": {
      "model_module": "@jupyter-widgets/base",
      "model_module_version": "2.0.0",
      "model_name": "LayoutModel",
      "state": {}
     },
     "38a7877309b248ba9ee65bd762013855": {
      "model_module": "@jupyter-widgets/controls",
      "model_module_version": "2.0.0",
      "model_name": "ProgressStyleModel",
      "state": {
       "description_width": ""
      }
     },
     "46e90ad9db8e48c7a8a2535f07d309fc": {
      "model_module": "@jupyter-widgets/controls",
      "model_module_version": "2.0.0",
      "model_name": "HBoxModel",
      "state": {
       "children": [
        "IPY_MODEL_a3d8563ea64f4472922def259e09b8aa",
        "IPY_MODEL_2e9565503d6f4ee8bec2b84a5ed96fc0",
        "IPY_MODEL_bb1b8e0cf9ad4910beaba89007141673"
       ],
       "layout": "IPY_MODEL_364ccd4ca5044d3fa192110ba8eba40e"
      }
     },
     "56b564a5641c40dbad00d5dbf4e9f18f": {
      "model_module": "@jupyter-widgets/controls",
      "model_module_version": "2.0.0",
      "model_name": "HTMLStyleModel",
      "state": {
       "description_width": "",
       "font_size": null,
       "text_color": null
      }
     },
     "657ec6023d114e62995b7e9615f7d885": {
      "model_module": "@jupyter-widgets/base",
      "model_module_version": "2.0.0",
      "model_name": "LayoutModel",
      "state": {}
     },
     "67a796cd48bc42f4a1581f010d3ca8c4": {
      "model_module": "@jupyter-widgets/controls",
      "model_module_version": "2.0.0",
      "model_name": "HTMLStyleModel",
      "state": {
       "description_width": "",
       "font_size": null,
       "text_color": null
      }
     },
     "8a41ebbef226490ea3f2167cf313f954": {
      "model_module": "@jupyter-widgets/controls",
      "model_module_version": "2.0.0",
      "model_name": "HTMLModel",
      "state": {
       "layout": "IPY_MODEL_657ec6023d114e62995b7e9615f7d885",
       "style": "IPY_MODEL_be3ab4b8599548dd93ef001d8e1b30c4",
       "value": " 10000/10000 [08:37&lt;00:00, 21.77it/s]"
      }
     },
     "95aaf38f2d1447d0a4db4d5b49c3e71d": {
      "model_module": "@jupyter-widgets/controls",
      "model_module_version": "2.0.0",
      "model_name": "HTMLModel",
      "state": {
       "layout": "IPY_MODEL_a7a050ad496149a793488e8e2be2ca77",
       "style": "IPY_MODEL_67a796cd48bc42f4a1581f010d3ca8c4",
       "value": "100%"
      }
     },
     "9a9571e24441478780d5dc9a9de86db3": {
      "model_module": "@jupyter-widgets/controls",
      "model_module_version": "2.0.0",
      "model_name": "FloatProgressModel",
      "state": {
       "bar_style": "success",
       "layout": "IPY_MODEL_19996f74d37a44c194c3a9371a43851e",
       "max": 10000,
       "style": "IPY_MODEL_c52bcdfcb03a4531a01fc23fac6f6b0c",
       "value": 10000
      }
     },
     "a3d8563ea64f4472922def259e09b8aa": {
      "model_module": "@jupyter-widgets/controls",
      "model_module_version": "2.0.0",
      "model_name": "HTMLModel",
      "state": {
       "layout": "IPY_MODEL_28c90838f32b47b286b5241186649aa8",
       "style": "IPY_MODEL_56b564a5641c40dbad00d5dbf4e9f18f",
       "value": "  1%"
      }
     },
     "a7a050ad496149a793488e8e2be2ca77": {
      "model_module": "@jupyter-widgets/base",
      "model_module_version": "2.0.0",
      "model_name": "LayoutModel",
      "state": {}
     },
     "b4838200dcfd40e796773e4c2610ac55": {
      "model_module": "@jupyter-widgets/controls",
      "model_module_version": "2.0.0",
      "model_name": "HBoxModel",
      "state": {
       "children": [
        "IPY_MODEL_95aaf38f2d1447d0a4db4d5b49c3e71d",
        "IPY_MODEL_9a9571e24441478780d5dc9a9de86db3",
        "IPY_MODEL_8a41ebbef226490ea3f2167cf313f954"
       ],
       "layout": "IPY_MODEL_130edae19b78400b81ba84595c6afff7"
      }
     },
     "bb1b8e0cf9ad4910beaba89007141673": {
      "model_module": "@jupyter-widgets/controls",
      "model_module_version": "2.0.0",
      "model_name": "HTMLModel",
      "state": {
       "layout": "IPY_MODEL_d680c0c7ba40428ba6055c1b9b07b632",
       "style": "IPY_MODEL_eff8f29c029a4561b0f58cce5837607d",
       "value": " 51/10000 [00:04&lt;13:54, 11.92it/s]"
      }
     },
     "be3ab4b8599548dd93ef001d8e1b30c4": {
      "model_module": "@jupyter-widgets/controls",
      "model_module_version": "2.0.0",
      "model_name": "HTMLStyleModel",
      "state": {
       "description_width": "",
       "font_size": null,
       "text_color": null
      }
     },
     "c52bcdfcb03a4531a01fc23fac6f6b0c": {
      "model_module": "@jupyter-widgets/controls",
      "model_module_version": "2.0.0",
      "model_name": "ProgressStyleModel",
      "state": {
       "description_width": ""
      }
     },
     "d680c0c7ba40428ba6055c1b9b07b632": {
      "model_module": "@jupyter-widgets/base",
      "model_module_version": "2.0.0",
      "model_name": "LayoutModel",
      "state": {}
     },
     "dc33222cf0b3461bb443fd9606989122": {
      "model_module": "@jupyter-widgets/base",
      "model_module_version": "2.0.0",
      "model_name": "LayoutModel",
      "state": {}
     },
     "eff8f29c029a4561b0f58cce5837607d": {
      "model_module": "@jupyter-widgets/controls",
      "model_module_version": "2.0.0",
      "model_name": "HTMLStyleModel",
      "state": {
       "description_width": "",
       "font_size": null,
       "text_color": null
      }
     }
    },
    "version_major": 2,
    "version_minor": 0
   }
  }
 },
 "nbformat": 4,
 "nbformat_minor": 5
}
